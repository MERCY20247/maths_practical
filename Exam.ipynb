{
 "cells": [
  {
   "cell_type": "markdown",
   "id": "47e2fae3-dc6f-48f8-ae4a-1b07f72cd562",
   "metadata": {},
   "source": [
    "# Question 5"
   ]
  },
  {
   "cell_type": "code",
   "execution_count": 1,
   "id": "0bfe093b-91b1-4327-ad9a-460595a1effd",
   "metadata": {},
   "outputs": [],
   "source": [
    "import numpy as np"
   ]
  },
  {
   "cell_type": "code",
   "execution_count": 3,
   "id": "99bddf71-28c4-4196-9cc2-330eba1f279a",
   "metadata": {},
   "outputs": [
    {
     "data": {
      "text/plain": [
       "array([[1. , 0.2, 0.5],\n",
       "       [0.2, 1. , 0.8],\n",
       "       [0.5, 0.8, 1. ]])"
      ]
     },
     "execution_count": 3,
     "metadata": {},
     "output_type": "execute_result"
    }
   ],
   "source": [
    "matrix = np.array([[1,0.2,0.5],[0.2,1,0.8],[0.5,0.8,1]])\n",
    "matrix"
   ]
  },
  {
   "cell_type": "code",
   "execution_count": 5,
   "id": "f14a76c1-a36e-4b60-b513-81b38b13d471",
   "metadata": {},
   "outputs": [
    {
     "data": {
      "text/plain": [
       "array([[1. , 0.2, 0.5],\n",
       "       [0.2, 1. , 0.8],\n",
       "       [0.5, 0.8, 1. ]])"
      ]
     },
     "execution_count": 5,
     "metadata": {},
     "output_type": "execute_result"
    }
   ],
   "source": [
    "#a) Inversion(transpose) of the matrix\n",
    "matrix_transpose = np.transpose(matrix)\n",
    "matrix_transpose"
   ]
  },
  {
   "cell_type": "code",
   "execution_count": 7,
   "id": "7675640a-fa0d-4c08-a0a9-887fa22ca87a",
   "metadata": {},
   "outputs": [
    {
     "data": {
      "text/plain": [
       "0.2299999999999999"
      ]
     },
     "execution_count": 7,
     "metadata": {},
     "output_type": "execute_result"
    }
   ],
   "source": [
    "#b) Determinant of the matrix\n",
    "Determinant = np.linalg.det(matrix)\n",
    "Determinant"
   ]
  },
  {
   "cell_type": "code",
   "execution_count": 9,
   "id": "274d657e-1301-4c9b-a250-e44441d1524c",
   "metadata": {},
   "outputs": [
    {
     "name": "stdout",
     "output_type": "stream",
     "text": [
      "[2.04100779 0.82188052 0.13711169]\n"
     ]
    }
   ],
   "source": [
    "#c) Decompose the matrix\n",
    "L,P = np.linalg.eig(matrix)\n",
    "print(L)"
   ]
  },
  {
   "cell_type": "code",
   "execution_count": 11,
   "id": "6aa3a908-334d-450d-bc93-1d819bc87590",
   "metadata": {},
   "outputs": [
    {
     "name": "stdout",
     "output_type": "stream",
     "text": [
      "[[-0.43721717 -0.85359707 -0.28321933]\n",
      " [-0.59931898  0.51133314 -0.61591816]\n",
      " [-0.67056536  0.09955128  0.73514055]]\n"
     ]
    }
   ],
   "source": [
    "print(P)"
   ]
  },
  {
   "cell_type": "code",
   "execution_count": 13,
   "id": "7f88079d-fb25-4aba-901d-3c7097d6b9ac",
   "metadata": {},
   "outputs": [
    {
     "data": {
      "text/plain": [
       "array([[ 1.56521739,  0.86956522, -1.47826087],\n",
       "       [ 0.86956522,  3.26086957, -3.04347826],\n",
       "       [-1.47826087, -3.04347826,  4.17391304]])"
      ]
     },
     "execution_count": 13,
     "metadata": {},
     "output_type": "execute_result"
    }
   ],
   "source": [
    "#d) Transform the matrix\n",
    "transformed_matrix = np.linalg.inv(matrix)\n",
    "transformed_matrix"
   ]
  },
  {
   "cell_type": "code",
   "execution_count": null,
   "id": "7d71f3e7-57cc-4232-a222-88d864e27d55",
   "metadata": {},
   "outputs": [],
   "source": []
  },
  {
   "cell_type": "markdown",
   "id": "c6845b27-06b4-46e8-90a4-ed9e748148f3",
   "metadata": {},
   "source": [
    "# Question 6"
   ]
  },
  {
   "cell_type": "code",
   "execution_count": 16,
   "id": "b65cb37c-60fe-4af5-aade-5037e626c72c",
   "metadata": {},
   "outputs": [],
   "source": [
    "from numpy import random"
   ]
  },
  {
   "cell_type": "code",
   "execution_count": 20,
   "id": "ae2145e5-8d24-4e6f-ae3f-703eb894872d",
   "metadata": {},
   "outputs": [
    {
     "data": {
      "text/plain": [
       "array([0, 1, 1, 2, 1, 4, 0, 1, 0, 1, 1, 1, 2, 0, 1, 0, 0, 1, 1, 2, 0, 1,\n",
       "       3, 1, 4, 1, 1, 0, 2, 1, 1, 2, 1, 0, 1, 1, 0, 0, 0, 1, 1, 1, 3, 1,\n",
       "       0, 1, 1, 1, 2, 3, 1, 2, 0, 2, 0, 1, 0, 1, 1, 0, 1, 1, 0, 2, 1, 0,\n",
       "       1, 0, 2, 0, 2, 1, 1, 1, 0, 1, 1, 1, 0, 4, 0, 1, 1, 0, 0, 0, 1, 4,\n",
       "       3, 2, 1, 3, 1, 1, 1, 0, 2, 2, 1, 1, 0, 2, 0, 1, 0, 2, 1, 1, 1, 0,\n",
       "       0, 1, 2, 0, 4, 2, 0, 2, 1, 1, 2, 0, 0, 0, 1, 0, 2, 0, 1, 0, 1, 2,\n",
       "       0, 1, 0, 0, 0, 2, 0, 0, 2, 0, 0, 1, 1, 0, 1, 1, 1, 4, 0, 1, 1, 1,\n",
       "       1, 0, 0, 2, 0, 1, 0, 1, 2, 0, 0, 1, 0, 2, 1, 0, 0, 1, 1, 1, 1, 1,\n",
       "       0, 2, 0, 1, 0, 1, 1, 1, 0, 0, 0, 2, 1, 0, 3, 0, 0, 2, 1, 1, 2, 0,\n",
       "       1, 1, 0, 2, 2, 2, 0, 1, 1, 1, 1, 2, 1, 1, 1, 1, 2, 2, 3, 3, 2, 0,\n",
       "       1, 1, 1, 1, 3, 1, 2, 2, 1, 1, 0, 1, 0, 0, 0, 2, 0, 0, 0, 0, 1, 1,\n",
       "       2, 1, 2, 1, 0, 2, 0, 0, 0, 1, 0, 3, 0, 2, 2, 0, 1, 1, 2, 3, 0, 1,\n",
       "       1, 2, 0, 1, 1, 1, 0, 1, 1, 2, 0, 1, 2, 0, 1, 0, 2, 2, 0, 0, 1, 2,\n",
       "       0, 0, 0, 2, 0, 3, 1, 0, 1, 1, 1, 1, 3, 1, 1, 0, 0, 0, 2, 2, 1, 2,\n",
       "       0, 0, 1, 0, 2, 1, 2, 2, 0, 1, 0, 0, 1, 0, 1, 1, 1, 2, 0, 1, 1, 0,\n",
       "       1, 0, 1, 2, 0, 0, 1, 1, 1, 1, 2, 2, 0, 2, 1, 1, 2, 3, 2, 0, 2, 4,\n",
       "       2, 0, 0, 0, 3, 1, 0, 0, 0, 1, 1, 1, 1, 1, 1, 2, 1, 0, 0, 1, 0, 0,\n",
       "       3, 2, 0, 1, 0, 1, 2, 2, 0, 1, 1, 1, 1, 0, 0, 1, 0, 1, 0, 0, 2, 1,\n",
       "       0, 1, 1, 0, 3, 2, 1, 0, 1, 0, 0, 2, 2, 0, 1, 0, 2, 1, 0, 0, 1, 0,\n",
       "       1, 0, 1, 1, 1, 1, 1, 1, 0, 3, 1, 0, 2, 0, 1, 0, 0, 0, 0, 1, 0, 0,\n",
       "       0, 2, 0, 0, 0, 0, 0, 1, 0, 0, 2, 1, 0, 2, 1, 3, 1, 3, 0, 1, 0, 3,\n",
       "       2, 1, 0, 0, 2, 0, 0, 0, 2, 0, 3, 1, 0, 0, 0, 0, 0, 0, 4, 1, 1, 0,\n",
       "       3, 1, 0, 0, 0, 0, 0, 2, 0, 1, 0, 0, 0, 0, 0, 3, 2, 0, 4, 2, 1, 0,\n",
       "       0, 1, 0, 1, 0, 1, 5, 1, 1, 1, 0, 2, 1, 2, 0, 3, 1, 1, 1, 1, 1, 2,\n",
       "       1, 2, 1, 2, 0, 2, 1, 4, 3, 3, 1, 1, 0, 0, 0, 0, 1, 1, 4, 1, 2, 4,\n",
       "       1, 2, 0, 2, 0, 0, 0, 1, 2, 1, 1, 1, 2, 2, 0, 1, 3, 1, 0, 1, 0, 1,\n",
       "       2, 1, 2, 1, 6, 1, 4, 3, 2, 0, 1, 0, 1, 2, 0, 0, 2, 0, 0, 0, 1, 0,\n",
       "       2, 3, 1, 2, 0, 0, 2, 0, 0, 1, 0, 0, 1, 0, 1, 0, 1, 0, 2, 2, 1, 1,\n",
       "       3, 0, 1, 1, 4, 0, 3, 1, 0, 0, 1, 1, 1, 1, 2, 1, 1, 2, 0, 1, 1, 0,\n",
       "       1, 3, 0, 1, 1, 1, 1, 1, 0, 0, 0, 0, 1, 1, 0, 0, 0, 1, 1, 1, 0, 1,\n",
       "       0, 1, 0, 0, 0, 1, 2, 1, 1, 1, 2, 1, 1, 2, 2, 0, 1, 2, 1, 0, 2, 1,\n",
       "       1, 1, 0, 1, 0, 0, 0, 0, 1, 3, 0, 2, 1, 0, 0, 0, 2, 0, 2, 1, 2, 3,\n",
       "       1, 0, 1, 0, 1, 2, 2, 1, 0, 0, 0, 0, 1, 3, 2, 1, 1, 1, 1, 4, 1, 2,\n",
       "       1, 2, 0, 2, 1, 2, 0, 0, 1, 2, 1, 1, 0, 0, 4, 0, 1, 0, 1, 1, 2, 3,\n",
       "       0, 3, 1, 0, 2, 1, 1, 0, 2, 0, 0, 3, 1, 2, 1, 1, 1, 2, 2, 0, 2, 2,\n",
       "       1, 2, 3, 0, 0, 0, 0, 2, 2, 2, 1, 1, 1, 0, 0, 4, 3, 1, 0, 3, 2, 1,\n",
       "       0, 0, 2, 1, 3, 1, 1, 3, 0, 0, 1, 1, 1, 2, 1, 1, 1, 4, 3, 0, 0, 1,\n",
       "       0, 4, 2, 1, 2, 2, 0, 1, 1, 0, 2, 0, 1, 0, 0, 0, 1, 0, 1, 3, 0, 0,\n",
       "       1, 4, 1, 2, 0, 2, 0, 1, 0, 1, 0, 1, 3, 2, 2, 1, 2, 4, 0, 0, 1, 0,\n",
       "       0, 2, 0, 1, 2, 0, 0, 0, 0, 2, 0, 1, 0, 3, 2, 0, 1, 1, 1, 0, 1, 0,\n",
       "       3, 1, 1, 0, 0, 1, 0, 2, 2, 0, 1, 1, 0, 2, 1, 1, 2, 0, 1, 1, 1, 0,\n",
       "       0, 0, 1, 0, 3, 1, 0, 1, 2, 0, 1, 0, 2, 0, 2, 1, 2, 1, 2, 0, 1, 1,\n",
       "       2, 1, 1, 1, 1, 1, 1, 1, 0, 0, 0, 2, 1, 1, 0, 2, 2, 4, 1, 1, 2, 1,\n",
       "       3, 2, 1, 1, 3, 0, 1, 1, 1, 0, 0, 1, 0, 3, 0, 1, 2, 0, 2, 2, 1, 0,\n",
       "       0, 3, 0, 1, 1, 2, 2, 0, 2, 0, 1, 4, 0, 0, 1, 0, 3, 0, 1, 1, 2, 0,\n",
       "       0, 1, 0, 1, 1, 0, 1, 1, 0, 6])"
      ]
     },
     "execution_count": 20,
     "metadata": {},
     "output_type": "execute_result"
    }
   ],
   "source": [
    "#a) 1,000 random samples using Python\n",
    "poisson_data = random.poisson(size=1000)\n",
    "poisson_data"
   ]
  },
  {
   "cell_type": "code",
   "execution_count": 31,
   "id": "808f2144-e637-4859-9469-d8c26fde2a28",
   "metadata": {},
   "outputs": [
    {
     "data": {
      "text/plain": [
       "1.006"
      ]
     },
     "execution_count": 31,
     "metadata": {},
     "output_type": "execute_result"
    }
   ],
   "source": [
    "#b) mean\n",
    "mean = np.ndarray.mean(poisson_data)\n",
    "mean"
   ]
  },
  {
   "cell_type": "code",
   "execution_count": 22,
   "id": "476775e6-8867-48dd-abbf-997a86f6151e",
   "metadata": {},
   "outputs": [
    {
     "data": {
      "text/plain": [
       "1.0297440000000002"
      ]
     },
     "execution_count": 22,
     "metadata": {},
     "output_type": "execute_result"
    }
   ],
   "source": [
    "variance = np.ndarray.var(poisson_data)\n",
    "variance"
   ]
  },
  {
   "cell_type": "code",
   "execution_count": null,
   "id": "599e6064-9fd1-43f7-84e0-7bf59710d76c",
   "metadata": {},
   "outputs": [],
   "source": []
  },
  {
   "cell_type": "code",
   "execution_count": 113,
   "id": "368d8f88-0806-4b0a-a163-b6199c9d1f0e",
   "metadata": {},
   "outputs": [],
   "source": [
    "#c) \n",
    "import seaborn as sns\n",
    "import matplotlib.pyplot as plt"
   ]
  },
  {
   "cell_type": "code",
   "execution_count": 119,
   "id": "ca09a2c1-01b0-41ef-8046-eb36a369446a",
   "metadata": {},
   "outputs": [
    {
     "data": {
      "image/png": "[encoded data removed]",
      "text/plain": [
       "<Figure size 640x480 with 1 Axes>"
      ]
     },
     "metadata": {},
     "output_type": "display_data"
    }
   ],
   "source": [
    "poisson_data = random.poisson(lam=5,size=1000)\n",
    "sns.histplot(poisson_data,label=\"poisson\", color=\"red\")\n",
    "plt.title(\"Customer arrivals\")\n",
    "plt.xlabel(\"Day\")\n",
    "plt.ylabel(\"No.of customers\")\n",
    "plt.show()"
   ]
  },
  {
   "cell_type": "code",
   "execution_count": null,
   "id": "123730b6-6416-43d0-a845-196cd7e13c86",
   "metadata": {},
   "outputs": [],
   "source": []
  }
 ],
 "metadata": {
  "kernelspec": {
   "display_name": "Python 3 (ipykernel)",
   "language": "python",
   "name": "python3"
  },
  "language_info": {
   "codemirror_mode": {
    "name": "ipython",
    "version": 3
   },
   "file_extension": ".py",
   "mimetype": "text/x-python",
   "name": "python",
   "nbconvert_exporter": "python",
   "pygments_lexer": "ipython3",
   "version": "3.12.4"
  }
 },
 "nbformat": 4,
 "nbformat_minor": 5
}
